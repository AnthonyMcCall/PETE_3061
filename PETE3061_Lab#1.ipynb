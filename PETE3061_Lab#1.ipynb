{
 "cells": [
  {
   "cell_type": "markdown",
   "metadata": {},
   "source": [
    "# Introduction to Modeling"
   ]
  },
  {
   "cell_type": "markdown",
   "metadata": {},
   "source": [
    "## What are models?"
   ]
  },
  {
   "cell_type": "markdown",
   "metadata": {},
   "source": [
    "https://en.wikipedia.org/wiki/Mathematical_model\n",
    "\n",
    "A model is the use of mathematics as the language to describe a natural or man-made system. Models are used to understand systems and to help make predictions of the system behavior. Great models become Laws (like Newton's Laws or Einstein's Relativity). The key to modeling is to keep it simple, but not too simple.\n",
    "\n",
    "It is tradition that models are organized as follows:\n",
    "\n",
    "* Governing equations\n",
    "* Supplementary sub-models\n",
    "    * Defining equations\n",
    "    * Constitutive equations\n",
    "* Assumptions and constraints\n",
    "    * Initial and boundary conditions\n",
    "    * Classical constraints and kinematic equations\n",
    "\n",
    "There are multiple classifications of Mathematical Models.\n",
    "https://en.wikipedia.org/wiki/Mathematical_model#Classifications\n",
    "\n"
   ]
  },
  {
   "cell_type": "markdown",
   "metadata": {},
   "source": [
    "In the simplest of terms a mathmatical model is just using independent variables (time, location, depth, etc.) to determine dependent variables (location, pressure, volume, etc.).\n",
    "\n",
    "$$\\begin{array}{c}\n",
    "Dependent\\\\variable\n",
    "\\end{array} = f\\left(\\begin{array}{c}\n",
    "independent\\\\variable\n",
    "\\end{array}, parameters, \\begin{array}{c}\n",
    "forcing\\\\functions\n",
    "\\end{array}\\right )$$\n",
    "\n",
    "Dependent variables are characteristic of the system. Independent variables are usually dimensions or time. Parameters are some form of the systems properties. Forcing functions are external influences to the system.\n"
   ]
  },
  {
   "cell_type": "markdown",
   "metadata": {},
   "source": [
    "## An example modeling problem"
   ]
  },
  {
   "cell_type": "markdown",
   "metadata": {},
   "source": [
    "### Newton's 2nd Law of Motion\n",
    "The force acting on the body $F$ in *Newtons (N)* is equal to the mass $m$ of the body in *kg* times its acceleration $a$ in $m/s^2$\n",
    "\n",
    "$${F=ma}$$\n",
    "\n",
    "If we rearrange with get a more desciptive form:\n",
    "\n",
    "$$a = \\frac{F}{m}$$\n",
    "\n",
    "where $a$ is the dependent variable, $m$ is the parameter reflecting a property of the system, and $F$ is obviously the forcing function.\n",
    "\n",
    "The model has the following characteristics:\n",
    "1. It describes a natural process\n",
    "2. Its an idealization or simplifications (it doesn't include quantum or relativistic corrections)\n",
    "3. It renders useful and reproducable results that can be used to predict behavior of a system\n",
    "\n",
    "It is algebraic, so it is super easy to solve. The real fun is when we bring back the Calculus and solve the problem of a *Tom Petty Object* (a free falling body). \n",
    "\n",
    "![falling body](fig1.png)\n",
    "\n",
    "Using the differential form of acceleration (the infinitesimal change of velocity with the change in time)  we can rewrite the 2nd Law as:\n",
    "\n",
    "$$\\frac{dv}{dt}=\\frac{F}{m}$$\n",
    "\n",
    "The next step is a force balance, the force down $F_D$ has to equal the force up $F_U$. The downward force is that of gravity:\n",
    "\n",
    "$$F_D=mg$$\n",
    "\n",
    "where g is gravitational constant $9.81m/s^2$ on Earth and assuming down is the \"positive\" direction. The upward force is slightly more complex and is known as *Drag Force*. For the time being, we will need to create a secondary (constituent) model for drag. We will assume it is linearly proportional to velocity and acts in the upward \"negative\" direction.\n",
    "\n",
    "$$F_U=-cv$$\n",
    "\n",
    "$c$ is the proportionality constant called the *drag coefficient* and is in $kg/s$.\n",
    "\n",
    "Therefore doing our force balance, we come up with the following equation:\n",
    "\n",
    "$$\\frac{dv}{dt}=\\frac{F}{m}=\\frac{mg-cv}{m}$$\n",
    "\n",
    "This can be simplified into the following differential equation:\n",
    "\n",
    "$$\\frac{dv}{dt}=g-\\frac{c}{m}v$$"
   ]
  },
  {
   "cell_type": "markdown",
   "metadata": {},
   "source": [
    "## Solving the Equation\n",
    "### Symbolic Solutions in Python (Sympy)"
   ]
  },
  {
   "cell_type": "markdown",
   "metadata": {},
   "source": [
    "#### Call the Sympy library\n",
    "This line also initiates the \"pretty\" printing functionality of sympy"
   ]
  },
  {
   "cell_type": "code",
   "execution_count": 4,
   "metadata": {},
   "outputs": [],
   "source": [
    "import sympy as sym\n",
    "sym.init_printing()"
   ]
  },
  {
   "cell_type": "markdown",
   "metadata": {},
   "source": [
    "#### Setup the variables and Build the Function"
   ]
  },
  {
   "cell_type": "code",
   "execution_count": 5,
   "metadata": {},
   "outputs": [
    {
     "data": {
      "image/png": "[encoded data removed]",
      "text/latex": [
       "$$\\frac{d}{d t} v{\\left (t \\right )} = \\frac{- c v{\\left (t \\right )} + g m}{m}$$"
      ],
      "text/plain": [
       "d          -c⋅v(t) + g⋅m\n",
       "──(v(t)) = ─────────────\n",
       "dt               m      "
      ]
     },
     "execution_count": 5,
     "metadata": {},
     "output_type": "execute_result"
    }
   ],
   "source": [
    "t, m, c, g = sym.symbols('t m c g')\n",
    "v = sym.Function('v')(t)\n",
    "dvdt = v.diff(t)\n",
    "expr = sym.Eq(dvdt, ((m*g)-(c*v))/m)\n",
    "expr"
   ]
  },
  {
   "cell_type": "markdown",
   "metadata": {},
   "source": [
    "#### Determine what kind of ODE it is (wish this existed when I took DiffEQ)"
   ]
  },
  {
   "cell_type": "code",
   "execution_count": 6,
   "metadata": {},
   "outputs": [
    {
     "data": {
      "text/plain": [
       "('separable',\n",
       " '1st_linear',\n",
       " 'Bernoulli',\n",
       " 'almost_linear',\n",
       " '1st_power_series',\n",
       " 'lie_group',\n",
       " 'nth_linear_constant_coeff_undetermined_coefficients',\n",
       " 'nth_linear_constant_coeff_variation_of_parameters',\n",
       " 'separable_Integral',\n",
       " '1st_linear_Integral',\n",
       " 'Bernoulli_Integral',\n",
       " 'almost_linear_Integral',\n",
       " 'nth_linear_constant_coeff_variation_of_parameters_Integral')"
      ]
     },
     "execution_count": 6,
     "metadata": {},
     "output_type": "execute_result"
    }
   ],
   "source": [
    "sym.classify_ode(expr)"
   ]
  },
  {
   "cell_type": "markdown",
   "metadata": {},
   "source": [
    "#### Solve for the general expression"
   ]
  },
  {
   "cell_type": "code",
   "execution_count": 7,
   "metadata": {},
   "outputs": [
    {
     "data": {
      "image/png": "[encoded data removed]",
      "text/latex": [
       "$$v{\\left (t \\right )} = \\frac{g m + e^{c \\left(C_{1} - \\frac{t}{m}\\right)}}{c}$$"
      ],
      "text/plain": [
       "                ⎛     t⎞\n",
       "              c⋅⎜C₁ - ─⎟\n",
       "                ⎝     m⎠\n",
       "       g⋅m + ℯ          \n",
       "v(t) = ─────────────────\n",
       "               c        "
      ]
     },
     "execution_count": 7,
     "metadata": {},
     "output_type": "execute_result"
    }
   ],
   "source": [
    "soln = sym.dsolve(expr,v)\n",
    "soln"
   ]
  },
  {
   "cell_type": "markdown",
   "metadata": {},
   "source": [
    "#### Find the exact solution for initial conditions ($v=0$ at $t = 0$)\n"
   ]
  },
  {
   "cell_type": "code",
   "execution_count": 8,
   "metadata": {},
   "outputs": [
    {
     "data": {
      "image/png": "[encoded data removed]",
      "text/latex": [
       "$$\\left [ v{\\left (0 \\right )}, \\quad \\frac{g m + e^{C_{1} c}}{c}\\right ]$$"
      ],
      "text/plain": [
       "⎡             C₁⋅c⎤\n",
       "⎢      g⋅m + ℯ    ⎥\n",
       "⎢v(0), ───────────⎥\n",
       "⎣           c     ⎦"
      ]
     },
     "execution_count": 8,
     "metadata": {},
     "output_type": "execute_result"
    }
   ],
   "source": [
    "ics = [soln.lhs.subs(t,0) - 0,soln.rhs.subs(t,0) - 0]\n",
    "ics"
   ]
  },
  {
   "cell_type": "code",
   "execution_count": 9,
   "metadata": {},
   "outputs": [
    {
     "data": {
      "image/png": "[encoded data removed]",
      "text/latex": [
       "$$\\left [ \\left \\{ C_{1} : \\frac{\\log{\\left (- g m \\right )}}{c}\\right \\}\\right ]$$"
      ],
      "text/plain": [
       "⎡⎧    log(-g⋅m)⎫⎤\n",
       "⎢⎨C₁: ─────────⎬⎥\n",
       "⎣⎩        c    ⎭⎦"
      ]
     },
     "execution_count": 9,
     "metadata": {},
     "output_type": "execute_result"
    }
   ],
   "source": [
    "constant = sym.solve(ics) \n",
    "constant"
   ]
  },
  {
   "cell_type": "markdown",
   "metadata": {},
   "source": [
    "#### Substitute Coefficient to Find Exact Solution"
   ]
  },
  {
   "cell_type": "code",
   "execution_count": 10,
   "metadata": {},
   "outputs": [],
   "source": [
    "C1 = sym.symbols('C1')"
   ]
  },
  {
   "cell_type": "code",
   "execution_count": 11,
   "metadata": {},
   "outputs": [
    {
     "data": {
      "image/png": "[encoded data removed]",
      "text/latex": [
       "$$v{\\left (t \\right )} = \\frac{g m + e^{c \\left(- \\frac{t}{m} + \\frac{\\log{\\left (- g m \\right )}}{c}\\right)}}{c}$$"
      ],
      "text/plain": [
       "                ⎛  t   log(-g⋅m)⎞\n",
       "              c⋅⎜- ─ + ─────────⎟\n",
       "                ⎝  m       c    ⎠\n",
       "       g⋅m + ℯ                   \n",
       "v(t) = ──────────────────────────\n",
       "                   c             "
      ]
     },
     "execution_count": 11,
     "metadata": {},
     "output_type": "execute_result"
    }
   ],
   "source": [
    "ext_soln = soln.subs(constant[0])\n",
    "ext_soln"
   ]
  },
  {
   "cell_type": "markdown",
   "metadata": {},
   "source": [
    "#### Make it pretty with simplify"
   ]
  },
  {
   "cell_type": "code",
   "execution_count": 12,
   "metadata": {},
   "outputs": [
    {
     "data": {
      "image/png": "[encoded data removed]",
      "text/latex": [
       "$$v{\\left (t \\right )} = \\frac{g m \\left(1 - e^{- \\frac{c t}{m}}\\right)}{c}$$"
      ],
      "text/plain": [
       "           ⎛     -c⋅t ⎞\n",
       "           ⎜     ─────⎟\n",
       "           ⎜       m  ⎟\n",
       "       g⋅m⋅⎝1 - ℯ     ⎠\n",
       "v(t) = ────────────────\n",
       "              c        "
      ]
     },
     "execution_count": 12,
     "metadata": {},
     "output_type": "execute_result"
    }
   ],
   "source": [
    "sym.simplify(ext_soln)"
   ]
  },
  {
   "cell_type": "markdown",
   "metadata": {},
   "source": [
    "#### Evaluating for specific values (Substitution)\n",
    "If the falling object is on Earth ($9.81m/s$), has a mass of $68kg$, and has a drag coefficient of $12.5kg/s$. "
   ]
  },
  {
   "cell_type": "code",
   "execution_count": 13,
   "metadata": {},
   "outputs": [],
   "source": [
    "ext_soln_const = ext_soln.subs([(g, 9.81),(m, 68.),(c, 12.5)])"
   ]
  },
  {
   "cell_type": "code",
   "execution_count": 14,
   "metadata": {},
   "outputs": [
    {
     "data": {
      "image/png": "[encoded data removed]",
      "text/latex": [
       "$$v{\\left (t \\right )} = 53.3664 e^{- 0.183823529411765 t + 1.0 i \\pi} + 53.3664$$"
      ],
      "text/plain": [
       "                -0.183823529411765⋅t + 1.0⋅ⅈ⋅π          \n",
       "v(t) = 53.3664⋅ℯ                               + 53.3664"
      ]
     },
     "execution_count": 14,
     "metadata": {},
     "output_type": "execute_result"
    }
   ],
   "source": [
    "sym.simplify(ext_soln_const)"
   ]
  },
  {
   "cell_type": "markdown",
   "metadata": {},
   "source": [
    "#### Plotting "
   ]
  },
  {
   "cell_type": "code",
   "execution_count": 15,
   "metadata": {},
   "outputs": [
    {
     "data": {
      "text/plain": [
       "<Figure size 640x480 with 1 Axes>"
      ]
     },
     "metadata": {},
     "output_type": "display_data"
    }
   ],
   "source": [
    "p1 = sym.plot(ext_soln_const.rhs,xlim = {0,12}, ylim = {0,100},xlabel = 'time (t)',ylabel = 'Velocity',show=False)\n",
    "#ext_soln_const = ext_soln.subs([(g, 1.62),(m, 68.),(c, 12.5)])\n",
    "#p2 = sym.plot(ext_soln_const.rhs,xlim = {0,12}, ylim = {0,100},xlabel = 'time (t)',ylabel = 'Velocity',show=False)\n",
    "#p1.append(p2[0])\n",
    "p1.show()"
   ]
  },
  {
   "cell_type": "code",
   "execution_count": 16,
   "metadata": {},
   "outputs": [
    {
     "name": "stdout",
     "output_type": "stream",
     "text": [
      "Eq(v(0), 3.5527136788005e-14)\n",
      "Eq(v(2), 16.4175591688156)\n",
      "Eq(v(4), 27.7844450851434)\n",
      "Eq(v(6), 35.6544392850263)\n",
      "Eq(v(8), 41.1033202856899)\n",
      "Eq(v(10), 44.8759157165525)\n",
      "Eq(v(12), 47.4879155534424)\n",
      "Eq(v(10000000), 53.3664)\n"
     ]
    }
   ],
   "source": [
    "times = [0,2,4,6,8,10,12,10**7]\n",
    "for time in times:\n",
    "    print(sym.simplify(ext_soln_const.subs(t,time)))"
   ]
  },
  {
   "cell_type": "markdown",
   "metadata": {},
   "source": [
    "### Numerical Solution"
   ]
  },
  {
   "cell_type": "markdown",
   "metadata": {},
   "source": [
    "We can approximate the Second law derivative using what is known as a *finite difference*, meaning we can compute the slope on ever more refined finite intervals. So an approximation of the derivative is as follows:\n",
    "\n",
    "$$\\frac{dv}{dt}\\cong\\frac{\\Delta v}{\\Delta t}=\\frac{v(t_{i+1})-v(t_i)}{t_{i+1}-t_i}$$\n",
    "\n",
    "where $\\Delta v$ and $\\Delta t$ are the differences in velocity and time computed over finite intervals. This is visualized below."
   ]
  },
  {
   "cell_type": "markdown",
   "metadata": {},
   "source": [
    "![finite difference](fig2.png)"
   ]
  },
  {
   "cell_type": "markdown",
   "metadata": {},
   "source": [
    "Remember your calculus. \n",
    "\n",
    "$$\\frac{dv}{dt}=\\lim_{t \\to 0} \\frac{\\Delta v}{\\Delta t}$$\n",
    "\n",
    "So to best approximate the solution, we would continue to shrink the difference, here called the time step ($\\Delta t$) to improve our results. Lets substitute and test it out.\n",
    "\n",
    "$$\\frac{v(t_{i+1})-v(t_i)}{t_{i+1}-t_i}=g-\\frac{c}{m}v(t_i)$$\n",
    "\n",
    "If we rearrange this we get the following:\n",
    "\n",
    "$$v(t_{i+1})=v(t_i)+\\left [g-\\frac{c}{m}v(t_i)\\right](t_{i+1}-t_i)$$\n",
    "\n",
    "Now we have an algebraic equation that we can use to solve numerically for the solution. Using the following algorithm:\n",
    "\n",
    "$$New\\space Value = old\\space value+slope \\times step\\space size$$\n",
    "\n",
    "This is called Euler's Method and we will come back to it later in this course."
   ]
  },
  {
   "cell_type": "markdown",
   "metadata": {},
   "source": [
    "Now lets create a function that will call the algebraic equation defined above for the differential. "
   ]
  },
  {
   "cell_type": "code",
   "execution_count": 17,
   "metadata": {},
   "outputs": [],
   "source": [
    "def diff(vti,ti,g,c,m,delt):\n",
    "    ti_1 = ti+delt\n",
    "    vti_1=vti+(g-(c/m)*vti)*(ti_1-ti)\n",
    "    return vti_1"
   ]
  },
  {
   "cell_type": "markdown",
   "metadata": {},
   "source": [
    "#### Testing the algebraic solution for values of $g=9.81m/s^2$, $c=12.5kg/s$, and $m=68.0$. Using a time step of 2 seconds"
   ]
  },
  {
   "cell_type": "code",
   "execution_count": 18,
   "metadata": {},
   "outputs": [
    {
     "data": {
      "image/png": "[encoded data removed]",
      "text/latex": [
       "$$19.62$$"
      ],
      "text/plain": [
       "19.62"
      ]
     },
     "execution_count": 18,
     "metadata": {},
     "output_type": "execute_result"
    }
   ],
   "source": [
    "g = 9.81\n",
    "c = 12.5\n",
    "m = 68.\n",
    "delt = 2\n",
    "diff(0,0,g,c,m,delt)"
   ]
  },
  {
   "cell_type": "markdown",
   "metadata": {},
   "source": [
    "#### Creating a loop to calculate at different time steps (0sec, 2sec, 4sec etc) and print the values"
   ]
  },
  {
   "cell_type": "code",
   "execution_count": 21,
   "metadata": {},
   "outputs": [
    {
     "name": "stdout",
     "output_type": "stream",
     "text": [
      "0 0\n",
      "2 19.62\n",
      "4 32.02676470588236\n",
      "6 39.87221885813149\n",
      "8 44.833314866171385\n",
      "10 47.97047851831426\n",
      "12 49.95427318069872\n"
     ]
    }
   ],
   "source": [
    "times = [0,2,4,6,8,10,12]\n",
    "delt = 2\n",
    "velocity = [0,0,0,0,0,0,0,0]\n",
    "for time in times:\n",
    "    velocity[times.index(time)+1] = diff(velocity[times.index(time)],time,g,c,m,delt)\n",
    "    print(time, velocity[times.index(time)])"
   ]
  },
  {
   "cell_type": "markdown",
   "metadata": {},
   "source": [
    "#### Comparison of the numerical solution with the results of the analytical solution"
   ]
  },
  {
   "cell_type": "code",
   "execution_count": 20,
   "metadata": {},
   "outputs": [
    {
     "name": "stdout",
     "output_type": "stream",
     "text": [
      "0 0 Eq(v(0), 3.5527136788005e-14)\n",
      "2 19.62 Eq(v(2), 16.4175591688156)\n",
      "4 32.02676470588236 Eq(v(4), 27.7844450851434)\n",
      "6 39.87221885813149 Eq(v(6), 35.6544392850263)\n",
      "8 44.833314866171385 Eq(v(8), 41.1033202856899)\n",
      "10 47.97047851831426 Eq(v(10), 44.8759157165525)\n",
      "12 49.95427318069872 Eq(v(12), 47.4879155534424)\n"
     ]
    }
   ],
   "source": [
    "times = [0,2,4,6,8,10,12]\n",
    "delt = 2\n",
    "velocity = [0,0,0,0,0,0,0,0]\n",
    "velocity_an = [0,0,0,0,0,0,0,0]\n",
    "for time in times:\n",
    "    velocity[times.index(time)+1] = diff(velocity[times.index(time)],time,g,c,m,delt)\n",
    "    velocity_an[times.index(time)] = sym.simplify(ext_soln_const.subs(t,time))\n",
    "    print(time, velocity[times.index(time)],velocity_an[times.index(time)])\n"
   ]
  },
  {
   "cell_type": "code",
   "execution_count": 36,
   "metadata": {},
   "outputs": [],
   "source": [
    "x = sym.lambdify(t,velocity_an[1].evalf())"
   ]
  },
  {
   "cell_type": "code",
   "execution_count": 40,
   "metadata": {},
   "outputs": [
    {
     "data": {
      "image/png": "[encoded data removed]",
      "text/latex": [
       "$$v{\\left (t \\right )} = 53.0 e^{- 0.183823529411765 t + 1.0 i \\pi} + 53.0$$"
      ],
      "text/plain": [
       "             -0.183823529411765⋅t + 1.0⋅ⅈ⋅π       \n",
       "v(t) = 53.0⋅ℯ                               + 53.0"
      ]
     },
     "execution_count": 40,
     "metadata": {},
     "output_type": "execute_result"
    }
   ],
   "source": [
    "ext_soln_const.evalf(2.)"
   ]
  },
  {
   "cell_type": "code",
   "execution_count": null,
   "metadata": {},
   "outputs": [],
   "source": []
  }
 ],
 "metadata": {
  "kernelspec": {
   "display_name": "Python 3",
   "language": "python",
   "name": "python3"
  },
  "language_info": {
   "codemirror_mode": {
    "name": "ipython",
    "version": 3
   },
   "file_extension": ".py",
   "mimetype": "text/x-python",
   "name": "python",
   "nbconvert_exporter": "python",
   "pygments_lexer": "ipython3",
   "version": "3.7.2"
  }
 },
 "nbformat": 4,
 "nbformat_minor": 2
}
